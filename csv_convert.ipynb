{
 "cells": [
  {
   "cell_type": "code",
   "execution_count": 1,
   "metadata": {},
   "outputs": [],
   "source": [
    "# Import the Pandas library\n",
    "import pandas as pd"
   ]
  },
  {
   "cell_type": "code",
   "execution_count": 4,
   "metadata": {},
   "outputs": [],
   "source": [
    "# Create a reference the CSV file desired\n",
    "csv_path = \"Resources/cities.csv\"\n",
    "\n",
    "# to read csv file named \"samplee\"\n",
    "a = pd.read_csv(csv_path)\n",
    "a = a.set_index(\"City_ID\")\n",
    "# to save as html file\n",
    "# named as \"Cities\"\n",
    "a.to_html(\"cities.html\")\n",
    " \n",
    "# assign it to a\n",
    "# variable (string)\n",
    "html_file = a.to_html()"
   ]
  }
 ],
 "metadata": {
  "kernelspec": {
   "display_name": "Python 3",
   "language": "python",
   "name": "python3"
  },
  "language_info": {
   "codemirror_mode": {
    "name": "ipython",
    "version": 3
   },
   "file_extension": ".py",
   "mimetype": "text/x-python",
   "name": "python",
   "nbconvert_exporter": "python",
   "pygments_lexer": "ipython3",
   "version": "3.7.6"
  }
 },
 "nbformat": 4,
 "nbformat_minor": 4
}
